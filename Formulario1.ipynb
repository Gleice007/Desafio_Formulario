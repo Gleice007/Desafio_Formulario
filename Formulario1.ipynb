{
 "cells": [
  {
   "cell_type": "code",
   "execution_count": 51,
   "id": "d2754b08-eaa3-4081-9b3f-d1107610d005",
   "metadata": {},
   "outputs": [],
   "source": [
    "from selenium import webdriver\n",
    "from selenium.webdriver.chrome.service import Service\n",
    "from webdriver_manager.chrome import ChromeDriverManager\n",
    "from selenium.webdriver.common.by import By\n",
    "\n",
    "servico = Service(ChromeDriverManager().install())\n",
    "navegador = webdriver.Chrome(service=servico)\n",
    "\n",
    "navegador.get('https://www.fastfieldforms.com/start-trial.html')"
   ]
  },
  {
   "cell_type": "code",
   "execution_count": 53,
   "id": "b43c04b3-9cfa-48ea-97c9-3056c1c0dfdd",
   "metadata": {},
   "outputs": [],
   "source": [
    "campo_empresa = navegador.find_element(By.XPATH, '//*[@id=\"CompanyName\"]').send_keys('Empresa Parvi')"
   ]
  },
  {
   "cell_type": "code",
   "execution_count": 55,
   "id": "4179cf94-6c1d-4363-8b1c-123f15c95f1f",
   "metadata": {},
   "outputs": [],
   "source": [
    "campo_nome = navegador.find_element(By.XPATH, '//*[@id=\"FirstName\"]').send_keys('Gleiciele')"
   ]
  },
  {
   "cell_type": "code",
   "execution_count": 57,
   "id": "5a49d281-3d0a-4731-8548-f4298837b433",
   "metadata": {},
   "outputs": [],
   "source": [
    "campo_sobrenome = navegador.find_element(By.XPATH, '//*[@id=\"LastName\"]').send_keys('Rodrigues')"
   ]
  },
  {
   "cell_type": "code",
   "execution_count": 59,
   "id": "df0a7397-fd2a-49a9-ab28-61bd8f6c5d17",
   "metadata": {},
   "outputs": [],
   "source": [
    "campo_celular = navegador.find_element(By.XPATH, '//*[@id=\"PhoneInput\"]').send_keys('(81) 999084087')"
   ]
  },
  {
   "cell_type": "code",
   "execution_count": 61,
   "id": "b11ab9a1-45bd-4183-bdc5-7f120030603e",
   "metadata": {},
   "outputs": [],
   "source": [
    "campo_email = navegador.find_element(By.XPATH, '//*[@id=\"Email\"]').send_keys('gleicepag31@gmail.com')"
   ]
  },
  {
   "cell_type": "code",
   "execution_count": 63,
   "id": "226b3a43-73ce-472f-9a3b-b994ac7700e1",
   "metadata": {},
   "outputs": [],
   "source": [
    "campo_senha = navegador.find_element(By.XPATH, '//*[@id=\"NewPassword\"]').send_keys('Gleice31*')\n",
    "campo_senha = navegador.find_element(By.XPATH, '//*[@id=\"ConfirmPassword\"]').send_keys('Gleice31*')"
   ]
  },
  {
   "cell_type": "code",
   "execution_count": 65,
   "id": "a66a8094-d689-4416-bf39-2d63aa986493",
   "metadata": {},
   "outputs": [],
   "source": [
    "campo_selecionar =  navegador.find_element(By.XPATH, '//*[@id=\"TrialEstimatedNumberOfUsers\"]').send_keys(2)"
   ]
  },
  {
   "cell_type": "code",
   "execution_count": 67,
   "id": "0cd05e6b-5c29-466c-bc17-b5b4120194b7",
   "metadata": {},
   "outputs": [],
   "source": [
    "campo_clicar = navegador.find_element(By.XPATH, '/html/body/div[2]/div[1]/div[2]/div/div/div/div/a').click()"
   ]
  },
  {
   "cell_type": "code",
   "execution_count": null,
   "id": "7695a24d-74d4-4b01-aa75-34210f9fdfa2",
   "metadata": {},
   "outputs": [],
   "source": []
  }
 ],
 "metadata": {
  "kernelspec": {
   "display_name": "Python 3 (ipykernel)",
   "language": "python",
   "name": "python3"
  },
  "language_info": {
   "codemirror_mode": {
    "name": "ipython",
    "version": 3
   },
   "file_extension": ".py",
   "mimetype": "text/x-python",
   "name": "python",
   "nbconvert_exporter": "python",
   "pygments_lexer": "ipython3",
   "version": "3.12.4"
  }
 },
 "nbformat": 4,
 "nbformat_minor": 5
}
