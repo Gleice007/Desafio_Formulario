{
 "cells": [
  {
   "cell_type": "code",
   "execution_count": 33,
   "id": "4f64fc7b-4f74-43c4-ab48-2462258baeeb",
   "metadata": {},
   "outputs": [],
   "source": [
    "from selenium import webdriver\n",
    "from selenium.webdriver.chrome.service import Service\n",
    "from webdriver_manager.chrome import ChromeDriverManager\n",
    "from selenium.webdriver.common.by import By\n",
    "\n",
    "servico = Service(ChromeDriverManager().install())\n",
    "navegador = webdriver.Chrome(service=servico)\n",
    "\n",
    "navegador.get('https://www.jotform.com/build/241925512525656?s=templates')"
   ]
  },
  {
   "cell_type": "code",
   "execution_count": 34,
   "id": "511e54cf-e3ce-4725-9d3f-11c3f9852ef1",
   "metadata": {},
   "outputs": [],
   "source": [
    "campo_nome = navegador.find_element(By.XPATH, '//*[@id=\"first_3\"]').send_keys('Gleiciele')\n",
    "campo_sobrenome = navegador.find_element(By.XPATH, '//*[@id=\"last_3\"]').send_keys('Rodrigues')"
   ]
  },
  {
   "cell_type": "code",
   "execution_count": 37,
   "id": "516e6875-016a-4d0e-97c5-c05ddadde185",
   "metadata": {},
   "outputs": [],
   "source": [
    "campo_idade = navegador.find_element(By.XPATH, '//*[@id=\"lite_mode_4\"]').send_keys('07311997')"
   ]
  },
  {
   "cell_type": "code",
   "execution_count": 39,
   "id": "3aeafdd9-2c3c-4d71-acdd-36b3bcb1fc22",
   "metadata": {},
   "outputs": [],
   "source": [
    "campo_email = navegador.find_element(By.XPATH, '//*[@id=\"input_5\"]').send_keys('gleicepag31@gmail.com')"
   ]
  },
  {
   "cell_type": "code",
   "execution_count": 53,
   "id": "bd24629e-e3d5-4e6e-8fcf-9ab105c08f3c",
   "metadata": {},
   "outputs": [],
   "source": [
    "campo_idade = navegador.find_element(By.XPATH, '//*[@id=\"input_7\"]').send_keys(26)"
   ]
  },
  {
   "cell_type": "code",
   "execution_count": 55,
   "id": "b98734d4-a529-4044-b506-3442e596a27e",
   "metadata": {},
   "outputs": [],
   "source": [
    "campo_altura = navegador.find_element(By.XPATH, '//*[@id=\"input_8\"]').send_keys('1,70')"
   ]
  },
  {
   "cell_type": "code",
   "execution_count": 57,
   "id": "65e36fcc-036a-4a13-8b89-04d7deaa44cd",
   "metadata": {},
   "outputs": [],
   "source": [
    "campo_profissão = navegador.find_element(By.XPATH, '//*[@id=\"input_9\"]').send_keys('Estagiaria')"
   ]
  },
  {
   "cell_type": "code",
   "execution_count": 59,
   "id": "bcc846c0-3e98-4c33-b168-ce3e2d362e6c",
   "metadata": {},
   "outputs": [],
   "source": [
    " campo_botão = navegador.find_element(By.XPATH, '//*[@id=\"form-pagebreak-next_50\"]').click()"
   ]
  },
  {
   "cell_type": "code",
   "execution_count": 63,
   "id": "04ac2135-9ee6-48f3-9e5f-a696bc1a14f9",
   "metadata": {},
   "outputs": [],
   "source": [
    "campo_objetivo = navegador.find_element(By.XPATH, '//*[@id=\"input_12\"]').send_keys(' alcançar e manter um peso saudável, melhorar a condição física geral, reduzir o estresse, melhorar a qualidade do sono, consumir alimentos mais saudáveis,evitar doenças crônicas como diabetes e hipertensão, e aumentar a longevidade.')"
   ]
  },
  {
   "cell_type": "code",
   "execution_count": 65,
   "id": "30f69969-1625-4f7a-9ada-d84e9f8cca03",
   "metadata": {},
   "outputs": [],
   "source": [
    "comapo_alimentação = navegador.find_element(By.XPATH, '//*[@id=\"input_13\"]').send_keys('Conseguir manter o padrão de uma alimentação correta.')"
   ]
  },
  {
   "cell_type": "code",
   "execution_count": 67,
   "id": "23617177-5728-42c0-9fde-0dc439128d08",
   "metadata": {},
   "outputs": [],
   "source": [
    "campo_emagrecer = navegador.find_element(By.XPATH, '//*[@id=\"input_14\"]').send_keys('É importante adotar uma abordagem equilibrada e sustentável para alcançar seus objetivos de forma saudável.') "
   ]
  },
  {
   "cell_type": "code",
   "execution_count": null,
   "id": "c364fbba-c0e1-4f86-876a-095fbb0cc7ac",
   "metadata": {},
   "outputs": [],
   "source": []
  }
 ],
 "metadata": {
  "kernelspec": {
   "display_name": "Python 3 (ipykernel)",
   "language": "python",
   "name": "python3"
  },
  "language_info": {
   "codemirror_mode": {
    "name": "ipython",
    "version": 3
   },
   "file_extension": ".py",
   "mimetype": "text/x-python",
   "name": "python",
   "nbconvert_exporter": "python",
   "pygments_lexer": "ipython3",
   "version": "3.12.4"
  }
 },
 "nbformat": 4,
 "nbformat_minor": 5
}
